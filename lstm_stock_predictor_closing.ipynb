{
 "cells": [
  {
   "cell_type": "markdown",
   "metadata": {},
   "source": [
    "## Deep Learning - Unit 14 Homework \n",
    "#### Gregory Terrinoni"
   ]
  },
  {
   "cell_type": "markdown",
   "metadata": {},
   "source": [
    "## LSTM Stock Predictor Using Closing Prices\n",
    "\n",
    "In this notebook, you will build and train a custom LSTM RNN that uses a 10 day window of Bitcoin closing prices to predict the 11th day closing price. \n",
    "\n",
    "You will need to:\n",
    "\n",
    "1. Prepare the data for training and testing\n",
    "2. Build and train a custom LSTM RNN\n",
    "3. Evaluate the performance of the model"
   ]
  },
  {
   "cell_type": "markdown",
   "metadata": {},
   "source": [
    "### Data Preparation\n",
    "\n",
    "In this section, you will need to prepare the training and testing data for the model. The model will use a rolling 10 day window to predict the 11th day closing price.\n",
    "\n",
    "You will need to:\n",
    "1. Use the `window_data` function to generate the X and y values for the model.\n",
    "2. Split the data into 70% training and 30% testing\n",
    "3. Apply the MinMaxScaler to the X and y values\n",
    "4. Reshape the X_train and X_test data for the model. Note: The required input format for the LSTM is:\n",
    "\n",
    "```python\n",
    "reshape((X_train.shape[0], X_train.shape[1], 1))\n",
    "```"
   ]
  },
  {
   "cell_type": "code",
   "execution_count": 95,
   "metadata": {},
   "outputs": [],
   "source": [
    "import numpy as np\n",
    "import pandas as pd\n",
    "import hvplot.pandas\n",
    "\n",
    "%matplotlib inline"
   ]
  },
  {
   "cell_type": "code",
   "execution_count": 96,
   "metadata": {},
   "outputs": [],
   "source": [
    "# Set the random seed for reproducibility\n",
    "# Note: This is for the homework solution, but it is good practice to comment this out and run multiple experiments to evaluate your model\n",
    "from numpy.random import seed\n",
    "seed(1)\n",
    "from tensorflow import random\n",
    "random.set_seed(2)"
   ]
  },
  {
   "cell_type": "code",
   "execution_count": 97,
   "metadata": {},
   "outputs": [
    {
     "data": {
      "text/html": [
       "<div>\n",
       "<style scoped>\n",
       "    .dataframe tbody tr th:only-of-type {\n",
       "        vertical-align: middle;\n",
       "    }\n",
       "\n",
       "    .dataframe tbody tr th {\n",
       "        vertical-align: top;\n",
       "    }\n",
       "\n",
       "    .dataframe thead th {\n",
       "        text-align: right;\n",
       "    }\n",
       "</style>\n",
       "<table border=\"1\" class=\"dataframe\">\n",
       "  <thead>\n",
       "    <tr style=\"text-align: right;\">\n",
       "      <th></th>\n",
       "      <th>fng_value</th>\n",
       "    </tr>\n",
       "    <tr>\n",
       "      <th>date</th>\n",
       "      <th></th>\n",
       "    </tr>\n",
       "  </thead>\n",
       "  <tbody>\n",
       "    <tr>\n",
       "      <th>2019-07-29</th>\n",
       "      <td>19</td>\n",
       "    </tr>\n",
       "    <tr>\n",
       "      <th>2019-07-28</th>\n",
       "      <td>16</td>\n",
       "    </tr>\n",
       "    <tr>\n",
       "      <th>2019-07-27</th>\n",
       "      <td>47</td>\n",
       "    </tr>\n",
       "    <tr>\n",
       "      <th>2019-07-26</th>\n",
       "      <td>24</td>\n",
       "    </tr>\n",
       "    <tr>\n",
       "      <th>2019-07-25</th>\n",
       "      <td>42</td>\n",
       "    </tr>\n",
       "  </tbody>\n",
       "</table>\n",
       "</div>"
      ],
      "text/plain": [
       "             fng_value\n",
       "date                  \n",
       "2019-07-29          19\n",
       "2019-07-28          16\n",
       "2019-07-27          47\n",
       "2019-07-26          24\n",
       "2019-07-25          42"
      ]
     },
     "execution_count": 97,
     "metadata": {},
     "output_type": "execute_result"
    }
   ],
   "source": [
    "# Loading the FNG sentiment data for Bitcoin\n",
    "df = pd.read_csv('Resources/btc_sentiment.csv', index_col=\"date\", infer_datetime_format=True, parse_dates=True)\n",
    "df = df.drop(columns=\"fng_classification\")\n",
    "df.head()"
   ]
  },
  {
   "cell_type": "code",
   "execution_count": 98,
   "metadata": {},
   "outputs": [
    {
     "data": {
      "text/plain": [
       "Date\n",
       "2019-07-25    9882.429688\n",
       "2019-07-26    9847.450195\n",
       "2019-07-27    9478.320313\n",
       "2019-07-28    9531.769531\n",
       "2019-07-29    9529.889648\n",
       "Name: Close, dtype: float64"
      ]
     },
     "execution_count": 98,
     "metadata": {},
     "output_type": "execute_result"
    }
   ],
   "source": [
    "# Loading the historical closing prices for Bitcoin\n",
    "df2 = pd.read_csv('Resources/btc_historic.csv', index_col=\"Date\", infer_datetime_format=True, parse_dates=True)['Close']\n",
    "df2 = df2.sort_index()\n",
    "df2.tail()"
   ]
  },
  {
   "cell_type": "code",
   "execution_count": 99,
   "metadata": {},
   "outputs": [
    {
     "data": {
      "text/html": [
       "<div>\n",
       "<style scoped>\n",
       "    .dataframe tbody tr th:only-of-type {\n",
       "        vertical-align: middle;\n",
       "    }\n",
       "\n",
       "    .dataframe tbody tr th {\n",
       "        vertical-align: top;\n",
       "    }\n",
       "\n",
       "    .dataframe thead th {\n",
       "        text-align: right;\n",
       "    }\n",
       "</style>\n",
       "<table border=\"1\" class=\"dataframe\">\n",
       "  <thead>\n",
       "    <tr style=\"text-align: right;\">\n",
       "      <th></th>\n",
       "      <th>fng_value</th>\n",
       "      <th>Close</th>\n",
       "    </tr>\n",
       "  </thead>\n",
       "  <tbody>\n",
       "    <tr>\n",
       "      <th>2019-07-25</th>\n",
       "      <td>42</td>\n",
       "      <td>9882.429688</td>\n",
       "    </tr>\n",
       "    <tr>\n",
       "      <th>2019-07-26</th>\n",
       "      <td>24</td>\n",
       "      <td>9847.450195</td>\n",
       "    </tr>\n",
       "    <tr>\n",
       "      <th>2019-07-27</th>\n",
       "      <td>47</td>\n",
       "      <td>9478.320313</td>\n",
       "    </tr>\n",
       "    <tr>\n",
       "      <th>2019-07-28</th>\n",
       "      <td>16</td>\n",
       "      <td>9531.769531</td>\n",
       "    </tr>\n",
       "    <tr>\n",
       "      <th>2019-07-29</th>\n",
       "      <td>19</td>\n",
       "      <td>9529.889648</td>\n",
       "    </tr>\n",
       "  </tbody>\n",
       "</table>\n",
       "</div>"
      ],
      "text/plain": [
       "             fng_value        Close\n",
       "2019-07-25          42  9882.429688\n",
       "2019-07-26          24  9847.450195\n",
       "2019-07-27          47  9478.320313\n",
       "2019-07-28          16  9531.769531\n",
       "2019-07-29          19  9529.889648"
      ]
     },
     "execution_count": 99,
     "metadata": {},
     "output_type": "execute_result"
    }
   ],
   "source": [
    "# Joining the data into a single DataFrame\n",
    "df = df.join(df2, how=\"inner\")\n",
    "df.tail()"
   ]
  },
  {
   "cell_type": "code",
   "execution_count": 100,
   "metadata": {},
   "outputs": [
    {
     "data": {
      "text/html": [
       "<div>\n",
       "<style scoped>\n",
       "    .dataframe tbody tr th:only-of-type {\n",
       "        vertical-align: middle;\n",
       "    }\n",
       "\n",
       "    .dataframe tbody tr th {\n",
       "        vertical-align: top;\n",
       "    }\n",
       "\n",
       "    .dataframe thead th {\n",
       "        text-align: right;\n",
       "    }\n",
       "</style>\n",
       "<table border=\"1\" class=\"dataframe\">\n",
       "  <thead>\n",
       "    <tr style=\"text-align: right;\">\n",
       "      <th></th>\n",
       "      <th>fng_value</th>\n",
       "      <th>Close</th>\n",
       "    </tr>\n",
       "  </thead>\n",
       "  <tbody>\n",
       "    <tr>\n",
       "      <th>2018-02-01</th>\n",
       "      <td>30</td>\n",
       "      <td>9114.719727</td>\n",
       "    </tr>\n",
       "    <tr>\n",
       "      <th>2018-02-02</th>\n",
       "      <td>15</td>\n",
       "      <td>8870.820313</td>\n",
       "    </tr>\n",
       "    <tr>\n",
       "      <th>2018-02-03</th>\n",
       "      <td>40</td>\n",
       "      <td>9251.269531</td>\n",
       "    </tr>\n",
       "    <tr>\n",
       "      <th>2018-02-04</th>\n",
       "      <td>24</td>\n",
       "      <td>8218.049805</td>\n",
       "    </tr>\n",
       "    <tr>\n",
       "      <th>2018-02-05</th>\n",
       "      <td>11</td>\n",
       "      <td>6937.080078</td>\n",
       "    </tr>\n",
       "  </tbody>\n",
       "</table>\n",
       "</div>"
      ],
      "text/plain": [
       "             fng_value        Close\n",
       "2018-02-01          30  9114.719727\n",
       "2018-02-02          15  8870.820313\n",
       "2018-02-03          40  9251.269531\n",
       "2018-02-04          24  8218.049805\n",
       "2018-02-05          11  6937.080078"
      ]
     },
     "execution_count": 100,
     "metadata": {},
     "output_type": "execute_result"
    }
   ],
   "source": [
    "#Showing df head\n",
    "df.head()"
   ]
  },
  {
   "cell_type": "code",
   "execution_count": 101,
   "metadata": {},
   "outputs": [],
   "source": [
    "# This function accepts the column number for the features (X) and the target (y)\n",
    "# It chunks the data up with a rolling window of Xt-n to predict Xt\n",
    "# It returns a numpy array of X any y\n",
    "def window_data(df, window, feature_col_number, target_col_number):\n",
    "    X = []\n",
    "    y = []\n",
    "    for i in range(len(df) - window - 1):\n",
    "        features = df.iloc[i:(i + window), feature_col_number]\n",
    "        target = df.iloc[(i + window), target_col_number]\n",
    "        X.append(features)\n",
    "        y.append(target)\n",
    "    return np.array(X), np.array(y).reshape(-1, 1)"
   ]
  },
  {
   "cell_type": "code",
   "execution_count": 102,
   "metadata": {},
   "outputs": [],
   "source": [
    "#Setting rolling window size\n",
    "window_size = 10\n",
    "\n",
    "# Column index 0 is the 'fng_value' column\n",
    "# Column index 1 is the `Close` column\n",
    "feature_column = 1\n",
    "target_column = 1\n",
    "\n",
    "#Using function defined above to retrieve data\n",
    "X, y = window_data(df, window_size, feature_column, target_column)"
   ]
  },
  {
   "cell_type": "code",
   "execution_count": 103,
   "metadata": {},
   "outputs": [],
   "source": [
    "# Splitting the data: 70% training and the remaineder for testing\n",
    "split = int(.7 * len(X))\n",
    "\n",
    "X_train = X[: split]\n",
    "X_test = X[split:]\n",
    "\n",
    "y_train = y[: split]\n",
    "y_test = y[split:]"
   ]
  },
  {
   "cell_type": "code",
   "execution_count": 104,
   "metadata": {},
   "outputs": [],
   "source": [
    "from sklearn.preprocessing import MinMaxScaler\n",
    "# Declaring scaler instance\n",
    "scaler = MinMaxScaler()\n",
    "\n",
    "#Fitting and training the X scaled data\n",
    "scaler.fit(X)\n",
    "\n",
    "X_train = scaler.transform(X_train)\n",
    "X_test = scaler.transform(X_test)\n",
    "\n",
    "#Fitting and training the y scaled data\n",
    "scaler.fit(y)\n",
    "\n",
    "y_train = scaler.transform(y_train)\n",
    "y_test = scaler.transform(y_test)"
   ]
  },
  {
   "cell_type": "code",
   "execution_count": 105,
   "metadata": {},
   "outputs": [],
   "source": [
    "# Reshaping the features for the model\n",
    "X_train = X_train.reshape((X_train.shape[0], X_train.shape[1], 1))\n",
    "X_test = X_test.reshape((X_test.shape[0], X_test.shape[1], 1))"
   ]
  },
  {
   "cell_type": "markdown",
   "metadata": {},
   "source": [
    "---"
   ]
  },
  {
   "cell_type": "markdown",
   "metadata": {},
   "source": [
    "## Build and Train the LSTM RNN\n",
    "\n",
    "In this section, you will design a custom LSTM RNN and fit (train) it using the training data.\n",
    "\n",
    "You will need to:\n",
    "1. Define the model architecture\n",
    "2. Compile the model\n",
    "3. Fit the model to the training data\n",
    "\n",
    "### Hints:\n",
    "You will want to use the same model architecture and random seed for both notebooks. This is necessary to accurately compare the performance of the FNG model vs the closing price model. "
   ]
  },
  {
   "cell_type": "code",
   "execution_count": 106,
   "metadata": {},
   "outputs": [],
   "source": [
    "from tensorflow.keras.models import Sequential\n",
    "from tensorflow.keras.layers import LSTM, Dense, Dropout"
   ]
  },
  {
   "cell_type": "code",
   "execution_count": 107,
   "metadata": {},
   "outputs": [],
   "source": [
    "# Building a LSTM model \n",
    "model = Sequential()\n",
    "\n",
    "#Setting up model\n",
    "num_units = 10\n",
    "dropout_fraction = .20\n",
    "\n",
    "#Layer 1\n",
    "model.add(LSTM(\n",
    "    units=num_units,\n",
    "    return_sequences=True,\n",
    "    input_shape=(X_train.shape[1], 1))\n",
    "    )\n",
    "model.add(Dropout(dropout_fraction))\n",
    "\n",
    "#Layer 2\n",
    "model.add(LSTM(units=num_units, return_sequences=True))\n",
    "model.add(Dropout(dropout_fraction))\n",
    "\n",
    "#Layer 3\n",
    "model.add(LSTM(units=num_units, return_sequences=True))\n",
    "model.add(Dropout(dropout_fraction))\n",
    "\n",
    "#Layer 4\n",
    "model.add(LSTM(units=num_units))\n",
    "model.add(Dropout(dropout_fraction))\n",
    "\n",
    "# Output layer\n",
    "model.add(Dense(1))"
   ]
  },
  {
   "cell_type": "code",
   "execution_count": 108,
   "metadata": {},
   "outputs": [],
   "source": [
    "# Compiling the model\n",
    "model.compile(optimizer=\"adam\", loss=\"mean_squared_error\")"
   ]
  },
  {
   "cell_type": "code",
   "execution_count": 109,
   "metadata": {},
   "outputs": [
    {
     "name": "stdout",
     "output_type": "stream",
     "text": [
      "Model: \"sequential_4\"\n",
      "_________________________________________________________________\n",
      "Layer (type)                 Output Shape              Param #   \n",
      "=================================================================\n",
      "lstm_15 (LSTM)               (None, 10, 10)            480       \n",
      "_________________________________________________________________\n",
      "dropout_15 (Dropout)         (None, 10, 10)            0         \n",
      "_________________________________________________________________\n",
      "lstm_16 (LSTM)               (None, 10, 10)            840       \n",
      "_________________________________________________________________\n",
      "dropout_16 (Dropout)         (None, 10, 10)            0         \n",
      "_________________________________________________________________\n",
      "lstm_17 (LSTM)               (None, 10, 10)            840       \n",
      "_________________________________________________________________\n",
      "dropout_17 (Dropout)         (None, 10, 10)            0         \n",
      "_________________________________________________________________\n",
      "lstm_18 (LSTM)               (None, 10)                840       \n",
      "_________________________________________________________________\n",
      "dropout_18 (Dropout)         (None, 10)                0         \n",
      "_________________________________________________________________\n",
      "dense_4 (Dense)              (None, 1)                 11        \n",
      "=================================================================\n",
      "Total params: 3,011\n",
      "Trainable params: 3,011\n",
      "Non-trainable params: 0\n",
      "_________________________________________________________________\n"
     ]
    }
   ],
   "source": [
    "# Summarizing the model\n",
    "model.summary()"
   ]
  },
  {
   "cell_type": "code",
   "execution_count": 110,
   "metadata": {},
   "outputs": [
    {
     "name": "stdout",
     "output_type": "stream",
     "text": [
      "Epoch 1/60\n",
      "38/38 [==============================] - 5s 11ms/step - loss: 0.2038\n",
      "Epoch 2/60\n",
      "38/38 [==============================] - 0s 11ms/step - loss: 0.0695\n",
      "Epoch 3/60\n",
      "38/38 [==============================] - 0s 11ms/step - loss: 0.0686\n",
      "Epoch 4/60\n",
      "38/38 [==============================] - 0s 10ms/step - loss: 0.0461\n",
      "Epoch 5/60\n",
      "38/38 [==============================] - 0s 10ms/step - loss: 0.0399\n",
      "Epoch 6/60\n",
      "38/38 [==============================] - 0s 11ms/step - loss: 0.0287\n",
      "Epoch 7/60\n",
      "38/38 [==============================] - 0s 10ms/step - loss: 0.0239\n",
      "Epoch 8/60\n",
      "38/38 [==============================] - 0s 11ms/step - loss: 0.0264\n",
      "Epoch 9/60\n",
      "38/38 [==============================] - 0s 11ms/step - loss: 0.0220\n",
      "Epoch 10/60\n",
      "38/38 [==============================] - 0s 11ms/step - loss: 0.0246\n",
      "Epoch 11/60\n",
      "38/38 [==============================] - 0s 10ms/step - loss: 0.0219\n",
      "Epoch 12/60\n",
      "38/38 [==============================] - 0s 10ms/step - loss: 0.0262\n",
      "Epoch 13/60\n",
      "38/38 [==============================] - 0s 10ms/step - loss: 0.0226\n",
      "Epoch 14/60\n",
      "38/38 [==============================] - 0s 11ms/step - loss: 0.0235\n",
      "Epoch 15/60\n",
      "38/38 [==============================] - 0s 11ms/step - loss: 0.0232\n",
      "Epoch 16/60\n",
      "38/38 [==============================] - 0s 11ms/step - loss: 0.0251\n",
      "Epoch 17/60\n",
      "38/38 [==============================] - 0s 11ms/step - loss: 0.0213\n",
      "Epoch 18/60\n",
      "38/38 [==============================] - 0s 10ms/step - loss: 0.0234\n",
      "Epoch 19/60\n",
      "38/38 [==============================] - 0s 10ms/step - loss: 0.0253\n",
      "Epoch 20/60\n",
      "38/38 [==============================] - 0s 10ms/step - loss: 0.0173\n",
      "Epoch 21/60\n",
      "38/38 [==============================] - 0s 10ms/step - loss: 0.0179\n",
      "Epoch 22/60\n",
      "38/38 [==============================] - 0s 10ms/step - loss: 0.0184\n",
      "Epoch 23/60\n",
      "38/38 [==============================] - 0s 11ms/step - loss: 0.0169\n",
      "Epoch 24/60\n",
      "38/38 [==============================] - 0s 11ms/step - loss: 0.0207\n",
      "Epoch 25/60\n",
      "38/38 [==============================] - 0s 10ms/step - loss: 0.0188\n",
      "Epoch 26/60\n",
      "38/38 [==============================] - 0s 10ms/step - loss: 0.0219\n",
      "Epoch 27/60\n",
      "38/38 [==============================] - 0s 10ms/step - loss: 0.0209\n",
      "Epoch 28/60\n",
      "38/38 [==============================] - 0s 10ms/step - loss: 0.0172\n",
      "Epoch 29/60\n",
      "38/38 [==============================] - 0s 10ms/step - loss: 0.0185\n",
      "Epoch 30/60\n",
      "38/38 [==============================] - 0s 11ms/step - loss: 0.0195\n",
      "Epoch 31/60\n",
      "38/38 [==============================] - 0s 10ms/step - loss: 0.0218\n",
      "Epoch 32/60\n",
      "38/38 [==============================] - 0s 11ms/step - loss: 0.0173\n",
      "Epoch 33/60\n",
      "38/38 [==============================] - 0s 11ms/step - loss: 0.0209\n",
      "Epoch 34/60\n",
      "38/38 [==============================] - 0s 11ms/step - loss: 0.0207\n",
      "Epoch 35/60\n",
      "38/38 [==============================] - 0s 11ms/step - loss: 0.0187\n",
      "Epoch 36/60\n",
      "38/38 [==============================] - 0s 11ms/step - loss: 0.0180\n",
      "Epoch 37/60\n",
      "38/38 [==============================] - 0s 11ms/step - loss: 0.0186\n",
      "Epoch 38/60\n",
      "38/38 [==============================] - 0s 11ms/step - loss: 0.0142\n",
      "Epoch 39/60\n",
      "38/38 [==============================] - 0s 10ms/step - loss: 0.0178\n",
      "Epoch 40/60\n",
      "38/38 [==============================] - 0s 10ms/step - loss: 0.0165\n",
      "Epoch 41/60\n",
      "38/38 [==============================] - 0s 11ms/step - loss: 0.0203\n",
      "Epoch 42/60\n",
      "38/38 [==============================] - 0s 11ms/step - loss: 0.0150\n",
      "Epoch 43/60\n",
      "38/38 [==============================] - 0s 10ms/step - loss: 0.0188\n",
      "Epoch 44/60\n",
      "38/38 [==============================] - 0s 10ms/step - loss: 0.0183\n",
      "Epoch 45/60\n",
      "38/38 [==============================] - 0s 10ms/step - loss: 0.0173\n",
      "Epoch 46/60\n",
      "38/38 [==============================] - 0s 11ms/step - loss: 0.0169\n",
      "Epoch 47/60\n",
      "38/38 [==============================] - 0s 10ms/step - loss: 0.0148\n",
      "Epoch 48/60\n",
      "38/38 [==============================] - 0s 10ms/step - loss: 0.0157\n",
      "Epoch 49/60\n",
      "38/38 [==============================] - 0s 11ms/step - loss: 0.0146\n",
      "Epoch 50/60\n",
      "38/38 [==============================] - 0s 11ms/step - loss: 0.0165\n",
      "Epoch 51/60\n",
      "38/38 [==============================] - 0s 11ms/step - loss: 0.0166\n",
      "Epoch 52/60\n",
      "38/38 [==============================] - 0s 10ms/step - loss: 0.0174\n",
      "Epoch 53/60\n",
      "38/38 [==============================] - 0s 10ms/step - loss: 0.0149\n",
      "Epoch 54/60\n",
      "38/38 [==============================] - 0s 10ms/step - loss: 0.0169\n",
      "Epoch 55/60\n",
      "38/38 [==============================] - 0s 10ms/step - loss: 0.0150\n",
      "Epoch 56/60\n",
      "38/38 [==============================] - 0s 10ms/step - loss: 0.0157\n",
      "Epoch 57/60\n",
      "38/38 [==============================] - 0s 10ms/step - loss: 0.0152\n",
      "Epoch 58/60\n",
      "38/38 [==============================] - 0s 11ms/step - loss: 0.0131\n",
      "Epoch 59/60\n",
      "38/38 [==============================] - 0s 11ms/step - loss: 0.0155\n",
      "Epoch 60/60\n",
      "38/38 [==============================] - 0s 11ms/step - loss: 0.0154\n"
     ]
    },
    {
     "data": {
      "text/plain": [
       "<tensorflow.python.keras.callbacks.History at 0x10bea525d48>"
      ]
     },
     "execution_count": 110,
     "metadata": {},
     "output_type": "execute_result"
    }
   ],
   "source": [
    "# Training the model\n",
    "model.fit(X_train, y_train, epochs=60, shuffle=False, batch_size=10, verbose=1)"
   ]
  },
  {
   "cell_type": "markdown",
   "metadata": {},
   "source": [
    "---"
   ]
  },
  {
   "cell_type": "markdown",
   "metadata": {},
   "source": [
    "## Model Performance\n",
    "\n",
    "In this section, you will evaluate the model using the test data. \n",
    "\n",
    "You will need to:\n",
    "1. Evaluate the model using the `X_test` and `y_test` data.\n",
    "2. Use the X_test data to make predictions\n",
    "3. Create a DataFrame of Real (y_test) vs predicted values. \n",
    "4. Plot the Real vs predicted values as a line chart\n",
    "\n",
    "### Hints\n",
    "Remember to apply the `inverse_transform` function to the predicted and y_test values to recover the actual closing prices."
   ]
  },
  {
   "cell_type": "code",
   "execution_count": 111,
   "metadata": {},
   "outputs": [
    {
     "data": {
      "text/plain": [
       "0.008028319105505943"
      ]
     },
     "execution_count": 111,
     "metadata": {},
     "output_type": "execute_result"
    }
   ],
   "source": [
    "# Evaluating the model\n",
    "model.evaluate(X_test, y_test, verbose=0)"
   ]
  },
  {
   "cell_type": "code",
   "execution_count": 112,
   "metadata": {},
   "outputs": [],
   "source": [
    "# Making predictions\n",
    "predictions = model.predict(X_test)"
   ]
  },
  {
   "cell_type": "code",
   "execution_count": 113,
   "metadata": {},
   "outputs": [],
   "source": [
    "# Recovering the original prices instead of the scaled version\n",
    "predicted_prices = scaler.inverse_transform(predictions)\n",
    "real_prices = scaler.inverse_transform(y_test.reshape(-1, 1))"
   ]
  },
  {
   "cell_type": "code",
   "execution_count": 114,
   "metadata": {},
   "outputs": [
    {
     "data": {
      "text/html": [
       "<div>\n",
       "<style scoped>\n",
       "    .dataframe tbody tr th:only-of-type {\n",
       "        vertical-align: middle;\n",
       "    }\n",
       "\n",
       "    .dataframe tbody tr th {\n",
       "        vertical-align: top;\n",
       "    }\n",
       "\n",
       "    .dataframe thead th {\n",
       "        text-align: right;\n",
       "    }\n",
       "</style>\n",
       "<table border=\"1\" class=\"dataframe\">\n",
       "  <thead>\n",
       "    <tr style=\"text-align: right;\">\n",
       "      <th></th>\n",
       "      <th>Real</th>\n",
       "      <th>Predicted</th>\n",
       "    </tr>\n",
       "  </thead>\n",
       "  <tbody>\n",
       "    <tr>\n",
       "      <th>2019-02-20</th>\n",
       "      <td>3924.239990</td>\n",
       "      <td>3661.033203</td>\n",
       "    </tr>\n",
       "    <tr>\n",
       "      <th>2019-02-21</th>\n",
       "      <td>3974.050049</td>\n",
       "      <td>3661.677246</td>\n",
       "    </tr>\n",
       "    <tr>\n",
       "      <th>2019-02-22</th>\n",
       "      <td>3937.040039</td>\n",
       "      <td>3678.090576</td>\n",
       "    </tr>\n",
       "    <tr>\n",
       "      <th>2019-02-23</th>\n",
       "      <td>3983.530029</td>\n",
       "      <td>3701.590088</td>\n",
       "    </tr>\n",
       "    <tr>\n",
       "      <th>2019-02-24</th>\n",
       "      <td>4149.089844</td>\n",
       "      <td>3733.690430</td>\n",
       "    </tr>\n",
       "  </tbody>\n",
       "</table>\n",
       "</div>"
      ],
      "text/plain": [
       "                   Real    Predicted\n",
       "2019-02-20  3924.239990  3661.033203\n",
       "2019-02-21  3974.050049  3661.677246\n",
       "2019-02-22  3937.040039  3678.090576\n",
       "2019-02-23  3983.530029  3701.590088\n",
       "2019-02-24  4149.089844  3733.690430"
      ]
     },
     "execution_count": 114,
     "metadata": {},
     "output_type": "execute_result"
    }
   ],
   "source": [
    "# Creating a DataFrame of Real and Predicted values\n",
    "stocks = pd.DataFrame({\n",
    "    \"Real\": real_prices.ravel(),\n",
    "    \"Predicted\": predicted_prices.ravel()\n",
    "}, index = df.index[-len(real_prices): ]) \n",
    "stocks.head()"
   ]
  },
  {
   "cell_type": "code",
   "execution_count": 115,
   "metadata": {},
   "outputs": [
    {
     "data": {
      "text/plain": [
       "<AxesSubplot:title={'center':'Actual Vs. Predicted Bitcoin Prices - Closing Price Model'}>"
      ]
     },
     "execution_count": 115,
     "metadata": {},
     "output_type": "execute_result"
    },
    {
     "data": {
      "image/png": "[encoded data removed]",
      "text/plain": [
       "<Figure size 432x288 with 1 Axes>"
      ]
     },
     "metadata": {
      "needs_background": "light"
     },
     "output_type": "display_data"
    }
   ],
   "source": [
    "# Plotting the real vs predicted values as a line chart\n",
    "stocks.plot(title=\"Actual Vs. Predicted Bitcoin Prices - Closing Price Model\")"
   ]
  },
  {
   "cell_type": "code",
   "execution_count": null,
   "metadata": {},
   "outputs": [],
   "source": []
  }
 ],
 "metadata": {
  "file_extension": ".py",
  "kernelspec": {
   "display_name": "Python [conda env:tensorflow]",
   "language": "python",
   "name": "conda-env-tensorflow-py"
  },
  "language_info": {
   "codemirror_mode": {
    "name": "ipython",
    "version": 3
   },
   "file_extension": ".py",
   "mimetype": "text/x-python",
   "name": "python",
   "nbconvert_exporter": "python",
   "pygments_lexer": "ipython3",
   "version": "3.7.9"
  },
  "mimetype": "text/x-python",
  "name": "python",
  "npconvert_exporter": "python",
  "pygments_lexer": "ipython3",
  "version": 3
 },
 "nbformat": 4,
 "nbformat_minor": 4
}
